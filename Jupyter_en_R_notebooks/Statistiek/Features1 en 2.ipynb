{
 "cells": [
  {
   "cell_type": "code",
   "execution_count": 9,
   "metadata": {},
   "outputs": [],
   "source": [
    "import sys\n",
    "import os\n",
    "path = r'D:\\Documenten\\Thesis'\n",
    "os.chdir(path)\n",
    "import pandas as pd\n",
    "import pylab as pl\n",
    "import matplotlib.pyplot as plt\n",
    "import numpy as np\n",
    "pl.rcParams['axes.grid'] = True\n",
    "np.random.seed(0)\n",
    "import seaborn as sns\n",
    "\n",
    "import pylab\n",
    "import matplotlib\n",
    "%matplotlib inline\n",
    "import glob\n",
    "sns.set(style=\"whitegrid\")"
   ]
  },
  {
   "cell_type": "code",
   "execution_count": 11,
   "metadata": {},
   "outputs": [],
   "source": [
    "df_features1 = pd.read_csv(\"MDS data + features1\")\n",
    "df_features1_NAN = pd.read_csv(\"MDS data +features1 NAN\")\n",
    "df_features2 = pd.read_csv(\"Dataset_features_2\")"
   ]
  },
  {
   "cell_type": "code",
   "execution_count": 12,
   "metadata": {},
   "outputs": [
    {
     "name": "stdout",
     "output_type": "stream",
     "text": [
      "     delta_z  delta_x  delta_y  track_id  t    x    y  norm_x  norm_y  \\\n",
      "0        NaN      NaN      NaN         1  1   88  780       0       0   \n",
      "1   5.656854      4.0     -4.0         1  2   92  776       4      -4   \n",
      "2   4.000000      0.0      4.0         1  3   92  780       4       0   \n",
      "3  20.000000     12.0    -16.0         1  4  104  764      16     -16   \n",
      "4   5.656854     -4.0      4.0         1  5  100  768      12     -12   \n",
      "\n",
      "  cellType_treatment      ta_deg  patientnumber   status  \n",
      "0              CXCL1         NaN            122  control  \n",
      "1              CXCL1  135.000000            122  control  \n",
      "2              CXCL1  360.000000            122  control  \n",
      "3              CXCL1  143.130102            122  control  \n",
      "4              CXCL1  315.000000            122  control  \n",
      "   delta_x  delta_y        ta  track_id  t    x    y cellType_treatment  \\\n",
      "0      NaN      NaN       NaN         1  1   88  780              CXCL1   \n",
      "1      4.0     -4.0  2.356194         1  2   92  776              CXCL1   \n",
      "2      0.0      4.0  0.000000         1  3   92  780              CXCL1   \n",
      "3     12.0    -16.0  2.498092         1  4  104  764              CXCL1   \n",
      "4     -4.0      4.0 -0.785398         1  5  100  768              CXCL1   \n",
      "\n",
      "   patientnumber  norm_x  norm_y   status      ta_deg  filter    delta_z  \n",
      "0            122       0       0  control         NaN   False        NaN  \n",
      "1            122       4      -4  control  135.000000   False   5.656854  \n",
      "2            122       4       0  control  360.000000   False   4.000000  \n",
      "3            122      16     -16  control  143.130102   False  20.000000  \n",
      "4            122      12     -12  control  315.000000   False   5.656854  \n",
      "   accumulated_distance  accumulated_euclidian_distance  average_directness  \\\n",
      "0            124.087650                      934.477394            7.530785   \n",
      "1             88.959860                     1024.281211           11.513971   \n",
      "2             75.803378                      501.980079            6.622133   \n",
      "3            108.035068                      458.484460            4.243848   \n",
      "4            470.143958                      220.689828            0.469409   \n",
      "\n",
      "   mean_speed  stdev_velocity  forward_migration_index_x  \\\n",
      "0    0.705043        0.566653                   4.650269   \n",
      "1    0.617777        0.583587                  -3.259601   \n",
      "2    0.861402        0.773883                  -4.301163   \n",
      "3    0.750244        0.594812                   6.658742   \n",
      "4    0.441865        0.459098                  24.758837   \n",
      "\n",
      "   forward_migration_index_y   status  patientnumber treatment  track_id  \n",
      "0                 -33.771752  control            122     CXCL1         1  \n",
      "1                -147.079910  control            122     CXCL1         2  \n",
      "2                  55.865911  control            122     CXCL1         3  \n",
      "3                 -12.418087  control            122     CXCL1         4  \n",
      "4                  25.889766  control            122     CXCL1         5  \n"
     ]
    }
   ],
   "source": [
    "print(df_features1.head())\n",
    "print(df_features1_NAN.head())\n",
    "print(df_features2.head())"
   ]
  },
  {
   "cell_type": "code",
   "execution_count": null,
   "metadata": {},
   "outputs": [],
   "source": []
  }
 ],
 "metadata": {
  "kernelspec": {
   "display_name": "Python 3",
   "language": "python",
   "name": "python3"
  },
  "language_info": {
   "codemirror_mode": {
    "name": "ipython",
    "version": 3
   },
   "file_extension": ".py",
   "mimetype": "text/x-python",
   "name": "python",
   "nbconvert_exporter": "python",
   "pygments_lexer": "ipython3",
   "version": "3.6.5"
  }
 },
 "nbformat": 4,
 "nbformat_minor": 2
}
